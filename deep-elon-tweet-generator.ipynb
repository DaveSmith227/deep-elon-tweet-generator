{
 "cells": [
  {
   "cell_type": "markdown",
   "metadata": {},
   "source": [
    "# Elon Musk-Like Tweet Generator"
   ]
  },
  {
   "cell_type": "code",
   "execution_count": 1,
   "metadata": {},
   "outputs": [],
   "source": [
    "%reload_ext autoreload\n",
    "%autoreload 2\n",
    "%matplotlib inline"
   ]
  },
  {
   "cell_type": "code",
   "execution_count": 2,
   "metadata": {},
   "outputs": [],
   "source": [
    "from fastai import *\n",
    "from fastai.text import *"
   ]
  },
  {
   "cell_type": "markdown",
   "metadata": {},
   "source": [
    "## Preparing the language model"
   ]
  },
  {
   "cell_type": "markdown",
   "metadata": {},
   "source": [
    "First let's load the dataset we will use to create a language model. \n",
    "\n",
    "The data is compiled of tweets from Elon Musk.\n",
    "\n",
    "Twitter data (2010 to 2018):\n",
    "- 6,094 total tweets\n",
    "    - 5,249 tweets\n",
    "    - 845 re-tweets\n",
    "\n",
    "The Twitter data used to train the data was compiled from 3 Elon Musk Twitter datasets from 2010 to 2018 and duplicates were removed:\n",
    "\n",
    "1. [2010-06-04 to 2017-04-05](https://data.world/adamhelsinger/elon-musk-tweets-until-4-6-17) from data.world\n",
    "2. [2017-04-06 to 2017-09-21](https://www.kaggle.com/kulgen/elon-musks-tweets) from kaggle\n",
    "3. [2017-12-17 tp 2018-12-11](https://data.world/barbaramaseda/elon-musk-tweet) from data.world"
   ]
  },
  {
   "cell_type": "code",
   "execution_count": 3,
   "metadata": {},
   "outputs": [
    {
     "data": {
      "text/html": [
       "<div>\n",
       "<style scoped>\n",
       "    .dataframe tbody tr th:only-of-type {\n",
       "        vertical-align: middle;\n",
       "    }\n",
       "\n",
       "    .dataframe tbody tr th {\n",
       "        vertical-align: top;\n",
       "    }\n",
       "\n",
       "    .dataframe thead th {\n",
       "        text-align: right;\n",
       "    }\n",
       "</style>\n",
       "<table border=\"1\" class=\"dataframe\">\n",
       "  <thead>\n",
       "    <tr style=\"text-align: right;\">\n",
       "      <th></th>\n",
       "      <th>text</th>\n",
       "    </tr>\n",
       "  </thead>\n",
       "  <tbody>\n",
       "    <tr>\n",
       "      <th>0</th>\n",
       "      <td>Please ignore prior tweets, as that was someon...</td>\n",
       "    </tr>\n",
       "    <tr>\n",
       "      <th>1</th>\n",
       "      <td>Went to Iceland on Sat to ride bumper cars on ...</td>\n",
       "    </tr>\n",
       "    <tr>\n",
       "      <th>2</th>\n",
       "      <td>I made the volume on the Model S http://t.co/w...</td>\n",
       "    </tr>\n",
       "    <tr>\n",
       "      <th>3</th>\n",
       "      <td>Great Voltaire quote, arguably better than Twa...</td>\n",
       "    </tr>\n",
       "    <tr>\n",
       "      <th>4</th>\n",
       "      <td>That was a total non sequitur btw</td>\n",
       "    </tr>\n",
       "  </tbody>\n",
       "</table>\n",
       "</div>"
      ],
      "text/plain": [
       "                                                text\n",
       "0  Please ignore prior tweets, as that was someon...\n",
       "1  Went to Iceland on Sat to ride bumper cars on ...\n",
       "2  I made the volume on the Model S http://t.co/w...\n",
       "3  Great Voltaire quote, arguably better than Twa...\n",
       "4                  That was a total non sequitur btw"
      ]
     },
     "execution_count": 3,
     "metadata": {},
     "output_type": "execute_result"
    }
   ],
   "source": [
    "df = pd.read_csv('/storage/deep-elon-tweet-generator/musk-tweets-2010-to-2018.csv');\n",
    "df.head()"
   ]
  },
  {
   "cell_type": "markdown",
   "metadata": {},
   "source": [
    "The training data contains 1 tweet per row and has no labels."
   ]
  },
  {
   "cell_type": "code",
   "execution_count": 4,
   "metadata": {},
   "outputs": [
    {
     "data": {
      "text/plain": [
       "\"Went to Iceland on Sat to ride bumper cars on ice!  No, not the country, Vlad's rink in Van Nuys. Awesome family fun :) http://t.co/rBQXJ9IT\""
      ]
     },
     "execution_count": 4,
     "metadata": {},
     "output_type": "execute_result"
    }
   ],
   "source": [
    "# let's look at a single tweet\n",
    "df['text'][1]"
   ]
  },
  {
   "cell_type": "code",
   "execution_count": 5,
   "metadata": {},
   "outputs": [
    {
     "data": {
      "text/plain": [
       "6094"
      ]
     },
     "execution_count": 5,
     "metadata": {},
     "output_type": "execute_result"
    }
   ],
   "source": [
    "# number of total tweets in training data (2010-2018)\n",
    "len(df)"
   ]
  },
  {
   "cell_type": "code",
   "execution_count": 6,
   "metadata": {},
   "outputs": [],
   "source": [
    "# batch size\n",
    "bs = 48"
   ]
  },
  {
   "cell_type": "code",
   "execution_count": 7,
   "metadata": {},
   "outputs": [],
   "source": [
    "# create langugage model using our twitter data\n",
    "data_lm = (TextList.from_df(df,Path('/storage/deep-elon-tweet-generator/'), col=['text']) \n",
    "          #We randomly split and keep 10% (~609 tweets) for validation\n",
    "           .random_split_by_pct(0.1)\n",
    "          #We want to do a language model so we label accordingly\n",
    "           .label_for_lm()\n",
    "          .databunch(bs=bs))\n",
    "data_lm.save('tmp_lm')"
   ]
  },
  {
   "cell_type": "markdown",
   "metadata": {},
   "source": [
    "## Tokenization"
   ]
  },
  {
   "cell_type": "markdown",
   "metadata": {},
   "source": [
    "The first step of processing we make tweets go through is to split the raw sentences into words, or more exactly tokens. The easiest way to do this would be to split the string on spaces, but we can be smarter:\n",
    "\n",
    "- we need to take care of punctuation\n",
    "- some words are contractions of two different words, like isn't or don't\n",
    "- we may need to clean some parts of our texts, if there's HTML code for instance\n",
    "\n",
    "To see what the tokenizer had done behind the scenes, let's have a look at a few tweets in a batch."
   ]
  },
  {
   "cell_type": "code",
   "execution_count": 8,
   "metadata": {},
   "outputs": [],
   "source": [
    "data_lm = TextLMDataBunch.load(Path('/storage/deep-elon-tweet-generator/'), 'tmp_lm', bs=bs)"
   ]
  },
  {
   "cell_type": "code",
   "execution_count": 9,
   "metadata": {},
   "outputs": [
    {
     "data": {
      "text/html": [
       "<table>  <col width='5%'>  <col width='95%'>  <tr>\n",
       "    <th>idx</th>\n",
       "    <th>text</th>\n",
       "  </tr>\n",
       "  <tr>\n",
       "    <th>0</th>\n",
       "    <th>xxbos xxmaj the xxmaj model s beta xxunk car just passed xxunk miles on a single battery pack ! xxbos xxmaj model s xxunk into semi truck xxunk and lifts it off the ground . xxmaj driver xxunk away . https : / / t.co / xxunk xxbos xxup rt @teslamotors : xxmaj xxunk xxmaj xxunk street view from a right hand drive xxmaj model xxup s. http : /</th>\n",
       "  </tr>\n",
       "  <tr>\n",
       "    <th>1</th>\n",
       "    <th>https : / / t.co / xxunk xxbos xxunk i want to know who is running the xxmaj xxunk xxunk ! xxmaj mad xxunk ... xxbos xxunk xxmaj thanks xxbos xxup rt @john_gardi : @elonmusk xxmaj you should point out this campaign was n't started by xxup xxunk but by concerned citizens that want a fair deal & & a xxunk \\ xe2 \\ x80 \\ xa6 xxbos @redletterdave xxmaj</th>\n",
       "  </tr>\n",
       "  <tr>\n",
       "    <th>2</th>\n",
       "    <th>xxmaj the cat videos are awesome xxbos xxmaj worth reading xxmaj the xxmaj machine xxmaj stops , an old story by xxup xxunk xxup xxunk xxmaj xxunk https : / / t.co / xxunk xxbos xxmaj expect to reach xxunk xxunk regarding last flight by end of week . xxmaj will brief key customers & & xxup xxunk , then post on our website . xxbos xxup rt @electrekco :</th>\n",
       "  </tr>\n",
       "  <tr>\n",
       "    <th>3</th>\n",
       "    <th>xxunk xxbos xxup rt @spacex : xxmaj early this morning , @spacex engineers xxunk # xxmaj dragon into the xxmaj port of xxup la http : / / t.co / xxunk xxbos xxunk xxmaj wow , that 's great ! xxbos xxmaj owner video of xxmaj autopilot steering to avoid collision with a truck \\n https : / / t.co / xxunk xxbos xxup rt @arstechnica : xxmaj xxunk \\</th>\n",
       "  </tr>\n",
       "  <tr>\n",
       "    <th>4</th>\n",
       "    <th>xxunk xxunk has details https : / / t.co / xxunk ? xxbos xxmaj about to give a talk at the xxmaj xxunk https : / / t.co / xxunk xxbos xxmaj we did n't even have kids back then . xxmaj just little xxunk . xxbos xxmaj xxunk judge xxunk auto dealers ' demand to kill our little xxmaj tesla store . xxmaj yay , justice xxunk ! http</th>\n",
       "  </tr>\n",
       "  <tr>\n",
       "    <th>5</th>\n",
       "    <th>xxunk xxunk xxmaj thanks for offering to help . i will check with my team . xxbos xxup xxunk xxmaj you 're right . xxmaj xxunk is a no - win situation . xxmaj xxunk is going to hate what you say no matter what that is . xxbos lol https : / / t.co / xxunk xxbos xxmaj first flight of 10 story xxunk xxmaj grasshopper rocket using closed</th>\n",
       "  </tr>\n",
       "  <tr>\n",
       "    <th>6</th>\n",
       "    <th>sales xxunk . xxbos xxup rt @spacex : xxmaj falcon 9 and xxmaj telstar 19 xxup vantage went vertical this afternoon on xxmaj pad 40 in xxmaj florida . xxmaj weather is 60 % favorable for the four - hour launch window , which opens xxmaj sunday , xxmaj july 22 at xxunk a.m. xxup edt , xxunk xxup utc . https : / / t.co / gtc39ubc7z https :</th>\n",
       "  </tr>\n",
       "  <tr>\n",
       "    <th>7</th>\n",
       "    <th>like xxmaj blackrock keep up to 50 % of short interest revenue , but xxunk almost none of xxunk decline , as they 're just \" passive \" managers . xxmaj blackrock made $ xxunk xxbos https : / / t.co / xxunk https : / / t.co / xxunk xxbos @djsnm xxmaj pump is single xxunk . xxmaj some landing systems are not xxunk , as landing is considered</th>\n",
       "  </tr>\n",
       "  <tr>\n",
       "    <th>8</th>\n",
       "    <th>a boat for short periods of time . xxmaj thrust via wheel xxunk . xxbos xxup rt @teslarati : spacex 's xxmaj mr xxmaj steven xxunk in high - speed test at sea with upgraded net ahead of fairing catch xxunk https : / / t.co / xxunk xxbos xxunk xxmaj early next year . xxmaj to start with , we 're making the xxunk xxmaj model 3 first ,</th>\n",
       "  </tr>\n",
       "  <tr>\n",
       "    <th>9</th>\n",
       "    <th>what is more xxunk than xxunk xxunk xxunk ? xxmaj xxunk ' the xxunk ... http : / / t.co / xxunk xxbos @samabuelsamid @teslamotors i 've written two forward - looking master plans , but have n't told the xxmaj tesla history of ho ? https : / / t.co / xxunk xxbos xxup rt @spacex : xxmaj close , but no xxunk . xxmaj this time . https</th>\n",
       "  </tr>\n",
       "</table>\n"
      ],
      "text/plain": [
       "<IPython.core.display.HTML object>"
      ]
     },
     "metadata": {},
     "output_type": "display_data"
    }
   ],
   "source": [
    "data_lm.show_batch(rows=10)"
   ]
  },
  {
   "cell_type": "markdown",
   "metadata": {},
   "source": [
    "The texts are truncated at 100 tokens for more readability. We can see that it did more than just split on space and punctuation symbols: \n",
    "- the \"'s\" are grouped together in one token\n",
    "- the contractions are separated like his: \"did\", \"n't\"\n",
    "- content has been cleaned for any HTML symbol and lower cased\n",
    "- there are several special tokens (all those that begin by xx), to replace unknown tokens (see below) or to introduce different text fields (here we only have one)."
   ]
  },
  {
   "cell_type": "markdown",
   "metadata": {},
   "source": [
    "## Numericalization"
   ]
  },
  {
   "cell_type": "markdown",
   "metadata": {},
   "source": [
    "Once we have extracted tokens from our texts, we convert to integers by creating a list of all the words used. We only keep the ones that appear at list twice with a maximum vocabulary size of 60,000 (by default) and replace the ones that don't make the cut by the unknown token `UNK`.\n",
    "\n",
    "The correspondance from ids tokens is stored in the `vocab` attribute of our datasets, in a dictionary called `itos` (for int to string)."
   ]
  },
  {
   "cell_type": "code",
   "execution_count": 10,
   "metadata": {},
   "outputs": [
    {
     "data": {
      "text/plain": [
       "['xxunk',\n",
       " 'xxpad',\n",
       " 'xxbos',\n",
       " 'xxfld',\n",
       " 'xxmaj',\n",
       " 'xxup',\n",
       " 'xxrep',\n",
       " 'xxwrep',\n",
       " '/',\n",
       " '.',\n",
       " ':',\n",
       " ',',\n",
       " 'the',\n",
       " 'to',\n",
       " 't.co']"
      ]
     },
     "execution_count": 10,
     "metadata": {},
     "output_type": "execute_result"
    }
   ],
   "source": [
    "# view the most common dictionary terms\n",
    "data_lm.vocab.itos[:15]"
   ]
  },
  {
   "cell_type": "markdown",
   "metadata": {},
   "source": [
    "## Train the language model"
   ]
  },
  {
   "cell_type": "markdown",
   "metadata": {},
   "source": [
    "We're not going to train a model that generates language from scratch. \n",
    "\n",
    "Instead, we'll use a model pretrained on a bigger dataset (a cleaned subset of wikipeia called [wikitext-103](https://einstein.ai/research/blog/the-wikitext-long-term-dependency-language-modeling-dataset)). That model has been trained to guess what the next word, its input being all the previous words. It has a recurrent structure and a hidden state that is updated each time it sees a new word. This hidden state thus contains information about the sentence up to that point.\n",
    "\n",
    "We are going to use that 'knowledge' of the English language to build our tweet generator, but first, we need to fine-tune the pretrained model with Elon's tweets. Because Twitter language/style isn't the same as the English of Wikipedia, we'll need to adjust a little bit the parameters of our model. Plus there might be some words extremely common in that dataset that were barely present in Wikipedia, and therefore might no be part of the vocabulary the model was trained on.\n",
    "\n",
    "Note that language models can use a lot of GPU, so you may need to decrease batchsize here."
   ]
  },
  {
   "cell_type": "code",
   "execution_count": 11,
   "metadata": {},
   "outputs": [],
   "source": [
    "# drop_mult is a parameter that controls the % of drop-out used\n",
    "learn = language_model_learner(data_lm, pretrained_model=URLs.WT103, drop_mult=0.30)"
   ]
  },
  {
   "cell_type": "code",
   "execution_count": 12,
   "metadata": {},
   "outputs": [
    {
     "name": "stdout",
     "output_type": "stream",
     "text": [
      "LR Finder is complete, type {learner_name}.recorder.plot() to see the graph.\n"
     ]
    }
   ],
   "source": [
    "# use learning rate finder to identify a good learning rate to use\n",
    "learn.lr_find()"
   ]
  },
  {
   "cell_type": "code",
   "execution_count": 13,
   "metadata": {},
   "outputs": [
    {
     "data": {
      "image/png": "[encoded data removed]",
      "text/plain": [
       "<Figure size 432x288 with 1 Axes>"
      ]
     },
     "metadata": {
      "needs_background": "light"
     },
     "output_type": "display_data"
    }
   ],
   "source": [
    "learn.recorder.plot(skip_end=15)"
   ]
  },
  {
   "cell_type": "code",
   "execution_count": 14,
   "metadata": {},
   "outputs": [
    {
     "data": {
      "text/html": [
       "Total time: 00:52 <p><table style='width:300px; margin-bottom:10px'>\n",
       "  <tr>\n",
       "    <th>epoch</th>\n",
       "    <th>train_loss</th>\n",
       "    <th>valid_loss</th>\n",
       "    <th>accuracy</th>\n",
       "  </tr>\n",
       "  <tr>\n",
       "    <th>1</th>\n",
       "    <th>6.673347</th>\n",
       "    <th>5.848070</th>\n",
       "    <th>0.201297</th>\n",
       "  </tr>\n",
       "  <tr>\n",
       "    <th>2</th>\n",
       "    <th>5.525470</th>\n",
       "    <th>4.180490</th>\n",
       "    <th>0.287321</th>\n",
       "  </tr>\n",
       "  <tr>\n",
       "    <th>3</th>\n",
       "    <th>4.683749</th>\n",
       "    <th>3.861969</th>\n",
       "    <th>0.326021</th>\n",
       "  </tr>\n",
       "  <tr>\n",
       "    <th>4</th>\n",
       "    <th>4.202083</th>\n",
       "    <th>3.738675</th>\n",
       "    <th>0.335610</th>\n",
       "  </tr>\n",
       "  <tr>\n",
       "    <th>5</th>\n",
       "    <th>3.903042</th>\n",
       "    <th>3.669463</th>\n",
       "    <th>0.338576</th>\n",
       "  </tr>\n",
       "  <tr>\n",
       "    <th>6</th>\n",
       "    <th>3.682685</th>\n",
       "    <th>3.621780</th>\n",
       "    <th>0.345820</th>\n",
       "  </tr>\n",
       "  <tr>\n",
       "    <th>7</th>\n",
       "    <th>3.530087</th>\n",
       "    <th>3.596351</th>\n",
       "    <th>0.348234</th>\n",
       "  </tr>\n",
       "  <tr>\n",
       "    <th>8</th>\n",
       "    <th>3.420229</th>\n",
       "    <th>3.582476</th>\n",
       "    <th>0.347647</th>\n",
       "  </tr>\n",
       "  <tr>\n",
       "    <th>9</th>\n",
       "    <th>3.348133</th>\n",
       "    <th>3.582009</th>\n",
       "    <th>0.347682</th>\n",
       "  </tr>\n",
       "  <tr>\n",
       "    <th>10</th>\n",
       "    <th>3.302161</th>\n",
       "    <th>3.582578</th>\n",
       "    <th>0.347544</th>\n",
       "  </tr>\n",
       "</table>\n"
      ],
      "text/plain": [
       "<IPython.core.display.HTML object>"
      ]
     },
     "metadata": {},
     "output_type": "display_data"
    }
   ],
   "source": [
    "# as a rule of thumb, review the plot above and choose the learning rate with the steepest slope to fit the model\n",
    "learn.fit_one_cycle(10, 1e-2, moms=(0.8,0.7))"
   ]
  },
  {
   "cell_type": "code",
   "execution_count": 15,
   "metadata": {},
   "outputs": [],
   "source": [
    "learn.save('tweet_head')"
   ]
  },
  {
   "cell_type": "code",
   "execution_count": 16,
   "metadata": {},
   "outputs": [],
   "source": [
    "learn.load('tweet_head');"
   ]
  },
  {
   "cell_type": "markdown",
   "metadata": {},
   "source": [
    "To complete the fine-tuning, we can then unfeeze and launch a new training to fine-tune all layers of the model."
   ]
  },
  {
   "cell_type": "code",
   "execution_count": 17,
   "metadata": {},
   "outputs": [
    {
     "data": {
      "text/html": [
       "Total time: 00:26 <p><table style='width:300px; margin-bottom:10px'>\n",
       "  <tr>\n",
       "    <th>epoch</th>\n",
       "    <th>train_loss</th>\n",
       "    <th>valid_loss</th>\n",
       "    <th>accuracy</th>\n",
       "  </tr>\n",
       "  <tr>\n",
       "    <th>1</th>\n",
       "    <th>3.271033</th>\n",
       "    <th>3.578148</th>\n",
       "    <th>0.350580</th>\n",
       "  </tr>\n",
       "  <tr>\n",
       "    <th>2</th>\n",
       "    <th>3.268870</th>\n",
       "    <th>3.575207</th>\n",
       "    <th>0.350235</th>\n",
       "  </tr>\n",
       "  <tr>\n",
       "    <th>3</th>\n",
       "    <th>3.271037</th>\n",
       "    <th>3.573545</th>\n",
       "    <th>0.348027</th>\n",
       "  </tr>\n",
       "  <tr>\n",
       "    <th>4</th>\n",
       "    <th>3.255284</th>\n",
       "    <th>3.572066</th>\n",
       "    <th>0.348924</th>\n",
       "  </tr>\n",
       "  <tr>\n",
       "    <th>5</th>\n",
       "    <th>3.244405</th>\n",
       "    <th>3.569673</th>\n",
       "    <th>0.348846</th>\n",
       "  </tr>\n",
       "</table>\n"
      ],
      "text/plain": [
       "<IPython.core.display.HTML object>"
      ]
     },
     "metadata": {},
     "output_type": "display_data"
    }
   ],
   "source": [
    "learn.fit_one_cycle(5, 1e-3, moms=(0.8,0.7))"
   ]
  },
  {
   "cell_type": "code",
   "execution_count": 18,
   "metadata": {},
   "outputs": [],
   "source": [
    "learn.save('tweet_fine_tuned')"
   ]
  },
  {
   "cell_type": "code",
   "execution_count": 19,
   "metadata": {},
   "outputs": [
    {
     "data": {
      "text/plain": [
       "LanguageLearner(data=TextLMDataBunch;\n",
       "\n",
       "Train: LabelList\n",
       "y: LMLabel (5485 items)\n",
       "[Category 0, Category 0, Category 0, Category 0, Category 0]...\n",
       "Path: /storage/deep-elon-tweet-generator\n",
       "x: LMTextList (5485 items)\n",
       "[Text xxbos xxmaj please xxunk prior tweets , as that was someone pretending to be me :) xxmaj this is actually me ., Text xxbos xxmaj went to xxmaj xxunk on xxmaj sat to ride bumper cars on ice ! xxmaj no , not the country , xxmaj xxunk 's xxunk in xxmaj van xxmaj xxunk . xxmaj awesome family fun :) http : / / t.co / xxunk, Text xxbos i made the volume on the xxmaj model s http : / / t.co / xxunk m go to 11 . xxmaj now i just need to work in a xxunk xxmaj xxunk ..., Text xxbos xxmaj great xxmaj xxunk quote , arguably better than xxmaj xxunk . xxmaj hearing news of his own death , xxmaj xxunk xxunk the reports were true , only xxunk ., Text xxbos xxmaj that was a total non xxunk btw]...\n",
       "Path: /storage/deep-elon-tweet-generator;\n",
       "\n",
       "Valid: LabelList\n",
       "y: LMLabel (609 items)\n",
       "[Category 0, Category 0, Category 0, Category 0, Category 0]...\n",
       "Path: /storage/deep-elon-tweet-generator\n",
       "x: LMTextList (609 items)\n",
       "[Text xxbos xxmaj very funny post of a xxmaj tesla owner test driving a gasoline car http : / / t.co / xxunk, Text xxbos @danfromtheweb xxmaj ok, Text xxbos xxunk xxunk xxmaj sounds like the xxmaj tesla xxmaj powerwall ( consumer ) and xxmaj powerpack ( utility / commercial ) might be useful, Text xxbos xxunk ca n't always xxunk xxunk and xxunk, Text xxbos xxmaj now with actual picture :) http : / / t.co / xxunk]...\n",
       "Path: /storage/deep-elon-tweet-generator;\n",
       "\n",
       "Test: None, model=SequentialRNN(\n",
       "  (0): RNNCore(\n",
       "    (encoder): Embedding(3685, 400, padding_idx=1)\n",
       "    (encoder_dp): EmbeddingDropout(\n",
       "      (emb): Embedding(3685, 400, padding_idx=1)\n",
       "    )\n",
       "    (rnns): ModuleList(\n",
       "      (0): WeightDropout(\n",
       "        (module): LSTM(400, 1150)\n",
       "      )\n",
       "      (1): WeightDropout(\n",
       "        (module): LSTM(1150, 1150)\n",
       "      )\n",
       "      (2): WeightDropout(\n",
       "        (module): LSTM(1150, 400)\n",
       "      )\n",
       "    )\n",
       "    (input_dp): RNNDropout()\n",
       "    (hidden_dps): ModuleList(\n",
       "      (0): RNNDropout()\n",
       "      (1): RNNDropout()\n",
       "      (2): RNNDropout()\n",
       "    )\n",
       "  )\n",
       "  (1): LinearDecoder(\n",
       "    (decoder): Linear(in_features=400, out_features=3685, bias=True)\n",
       "    (output_dp): RNNDropout()\n",
       "  )\n",
       "), opt_func=functools.partial(<class 'torch.optim.adam.Adam'>, betas=(0.9, 0.99)), loss_func=<fastai.layers.FlattenedLoss object at 0x7f4d300a9668>, metrics=[<function accuracy at 0x7f4d31ce3620>], true_wd=True, bn_wd=True, wd=0.01, train_bn=True, path=PosixPath('/storage/deep-elon-tweet-generator'), model_dir='models', callback_fns=[<class 'fastai.basic_train.Recorder'>], callbacks=[RNNTrainer(learn=LanguageLearner(data=TextLMDataBunch;\n",
       "\n",
       "Train: LabelList\n",
       "y: LMLabel (5485 items)\n",
       "[Category 0, Category 0, Category 0, Category 0, Category 0]...\n",
       "Path: /storage/deep-elon-tweet-generator\n",
       "x: LMTextList (5485 items)\n",
       "[Text xxbos xxmaj please xxunk prior tweets , as that was someone pretending to be me :) xxmaj this is actually me ., Text xxbos xxmaj went to xxmaj xxunk on xxmaj sat to ride bumper cars on ice ! xxmaj no , not the country , xxmaj xxunk 's xxunk in xxmaj van xxmaj xxunk . xxmaj awesome family fun :) http : / / t.co / xxunk, Text xxbos i made the volume on the xxmaj model s http : / / t.co / xxunk m go to 11 . xxmaj now i just need to work in a xxunk xxmaj xxunk ..., Text xxbos xxmaj great xxmaj xxunk quote , arguably better than xxmaj xxunk . xxmaj hearing news of his own death , xxmaj xxunk xxunk the reports were true , only xxunk ., Text xxbos xxmaj that was a total non xxunk btw]...\n",
       "Path: /storage/deep-elon-tweet-generator;\n",
       "\n",
       "Valid: LabelList\n",
       "y: LMLabel (609 items)\n",
       "[Category 0, Category 0, Category 0, Category 0, Category 0]...\n",
       "Path: /storage/deep-elon-tweet-generator\n",
       "x: LMTextList (609 items)\n",
       "[Text xxbos xxmaj very funny post of a xxmaj tesla owner test driving a gasoline car http : / / t.co / xxunk, Text xxbos @danfromtheweb xxmaj ok, Text xxbos xxunk xxunk xxmaj sounds like the xxmaj tesla xxmaj powerwall ( consumer ) and xxmaj powerpack ( utility / commercial ) might be useful, Text xxbos xxunk ca n't always xxunk xxunk and xxunk, Text xxbos xxmaj now with actual picture :) http : / / t.co / xxunk]...\n",
       "Path: /storage/deep-elon-tweet-generator;\n",
       "\n",
       "Test: None, model=SequentialRNN(\n",
       "  (0): RNNCore(\n",
       "    (encoder): Embedding(3685, 400, padding_idx=1)\n",
       "    (encoder_dp): EmbeddingDropout(\n",
       "      (emb): Embedding(3685, 400, padding_idx=1)\n",
       "    )\n",
       "    (rnns): ModuleList(\n",
       "      (0): WeightDropout(\n",
       "        (module): LSTM(400, 1150)\n",
       "      )\n",
       "      (1): WeightDropout(\n",
       "        (module): LSTM(1150, 1150)\n",
       "      )\n",
       "      (2): WeightDropout(\n",
       "        (module): LSTM(1150, 400)\n",
       "      )\n",
       "    )\n",
       "    (input_dp): RNNDropout()\n",
       "    (hidden_dps): ModuleList(\n",
       "      (0): RNNDropout()\n",
       "      (1): RNNDropout()\n",
       "      (2): RNNDropout()\n",
       "    )\n",
       "  )\n",
       "  (1): LinearDecoder(\n",
       "    (decoder): Linear(in_features=400, out_features=3685, bias=True)\n",
       "    (output_dp): RNNDropout()\n",
       "  )\n",
       "), opt_func=functools.partial(<class 'torch.optim.adam.Adam'>, betas=(0.9, 0.99)), loss_func=<fastai.layers.FlattenedLoss object at 0x7f4d300a9668>, metrics=[<function accuracy at 0x7f4d31ce3620>], true_wd=True, bn_wd=True, wd=0.01, train_bn=True, path=PosixPath('/storage/deep-elon-tweet-generator'), model_dir='models', callback_fns=[<class 'fastai.basic_train.Recorder'>], callbacks=[...], layer_groups=[Sequential(\n",
       "  (0): WeightDropout(\n",
       "    (module): LSTM(400, 1150)\n",
       "  )\n",
       "  (1): RNNDropout()\n",
       "), Sequential(\n",
       "  (0): WeightDropout(\n",
       "    (module): LSTM(1150, 1150)\n",
       "  )\n",
       "  (1): RNNDropout()\n",
       "), Sequential(\n",
       "  (0): WeightDropout(\n",
       "    (module): LSTM(1150, 400)\n",
       "  )\n",
       "  (1): RNNDropout()\n",
       "), Sequential(\n",
       "  (0): Embedding(3685, 400, padding_idx=1)\n",
       "  (1): EmbeddingDropout(\n",
       "    (emb): Embedding(3685, 400, padding_idx=1)\n",
       "  )\n",
       "  (2): LinearDecoder(\n",
       "    (decoder): Linear(in_features=400, out_features=3685, bias=True)\n",
       "    (output_dp): RNNDropout()\n",
       "  )\n",
       ")]), bptt=70, alpha=2.0, beta=1.0, adjust=False)], layer_groups=[Sequential(\n",
       "  (0): WeightDropout(\n",
       "    (module): LSTM(400, 1150)\n",
       "  )\n",
       "  (1): RNNDropout()\n",
       "), Sequential(\n",
       "  (0): WeightDropout(\n",
       "    (module): LSTM(1150, 1150)\n",
       "  )\n",
       "  (1): RNNDropout()\n",
       "), Sequential(\n",
       "  (0): WeightDropout(\n",
       "    (module): LSTM(1150, 400)\n",
       "  )\n",
       "  (1): RNNDropout()\n",
       "), Sequential(\n",
       "  (0): Embedding(3685, 400, padding_idx=1)\n",
       "  (1): EmbeddingDropout(\n",
       "    (emb): Embedding(3685, 400, padding_idx=1)\n",
       "  )\n",
       "  (2): LinearDecoder(\n",
       "    (decoder): Linear(in_features=400, out_features=3685, bias=True)\n",
       "    (output_dp): RNNDropout()\n",
       "  )\n",
       ")])"
      ]
     },
     "execution_count": 19,
     "metadata": {},
     "output_type": "execute_result"
    }
   ],
   "source": [
    "learn.load('tweet_fine_tuned')"
   ]
  },
  {
   "cell_type": "markdown",
   "metadata": {},
   "source": [
    "## Tweet Generation Testing"
   ]
  },
  {
   "cell_type": "code",
   "execution_count": 20,
   "metadata": {},
   "outputs": [],
   "source": [
    "# adjust below parameters to test inference (generated tweets)\n",
    "\n",
    "TEXT = \"Robots will\"\n",
    "N_WORDS = 20\n",
    "N_SENTENCES = 2"
   ]
  },
  {
   "cell_type": "code",
   "execution_count": 21,
   "metadata": {},
   "outputs": [
    {
     "name": "stdout",
     "output_type": "stream",
     "text": [
      "Robots will own a three - character xxup bfr spacecraft companies . this meeting will be that following as no launching xxbos\n",
      "Robots will act on their later designs . one of the most prominent designs that telstar 1 remains with the credit of\n"
     ]
    }
   ],
   "source": [
    "print(\"\\n\".join(learn.predict(TEXT, N_WORDS) for _ in range(N_SENTENCES)))"
   ]
  }
 ],
 "metadata": {
  "kernelspec": {
   "display_name": "Python 3",
   "language": "python",
   "name": "python3"
  },
  "language_info": {
   "codemirror_mode": {
    "name": "ipython",
    "version": 3
   },
   "file_extension": ".py",
   "mimetype": "text/x-python",
   "name": "python",
   "nbconvert_exporter": "python",
   "pygments_lexer": "ipython3",
   "version": "3.6.6"
  }
 },
 "nbformat": 4,
 "nbformat_minor": 2
}
